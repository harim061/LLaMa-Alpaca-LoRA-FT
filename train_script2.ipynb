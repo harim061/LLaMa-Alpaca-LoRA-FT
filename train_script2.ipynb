{
 "cells": [
  {
   "cell_type": "code",
   "execution_count": 1,
   "metadata": {},
   "outputs": [],
   "source": [
    "!pip install -q autotrain-advanced"
   ]
  },
  {
   "cell_type": "code",
   "execution_count": 7,
   "metadata": {},
   "outputs": [
    {
     "name": "stderr",
     "output_type": "stream",
     "text": [
      "> \u001b[1mINFO    Installing latest xformers\u001b[0m\n",
      "> \u001b[1mINFO    Successfully installed latest xformers\u001b[0m\n",
      "> \u001b[1mINFO    Installing latest PyTorch\u001b[0m\n",
      "> \u001b[1mINFO    Successfully installed latest PyTorch\u001b[0m\n"
     ]
    }
   ],
   "source": [
    "!autotrain setup --update-torch"
   ]
  },
  {
   "cell_type": "code",
   "execution_count": 3,
   "metadata": {},
   "outputs": [
    {
     "data": {
      "application/vnd.jupyter.widget-view+json": {
       "model_id": "c43f105d04b24d69af38581538833996",
       "version_major": 2,
       "version_minor": 0
      },
      "text/plain": [
       "VBox(children=(HTML(value='<center> <img\\nsrc=https://huggingface.co/front/assets/huggingface_logo-noborder.sv…"
      ]
     },
     "metadata": {},
     "output_type": "display_data"
    }
   ],
   "source": [
    "import huggingface_hub\n",
    "\n",
    "from huggingface_hub import notebook_login\n",
    "\n",
    "notebook_login()"
   ]
  },
  {
   "cell_type": "markdown",
   "metadata": {},
   "source": [
    "## Finetune\n",
    "\n",
    "A100 7.5h/epoch\n",
    "\n",
    "기본 모델: https://huggingface.co/TinyPixel/Llama-2-7B-bf16-sharded\n",
    "\n",
    "KoAlpaca 데이터셋(한국어): https://huggingface.co/datasets/royboy0416/ko-alpaca\n",
    "\n",
    "OpenAssistant 데이터셋(영어): https://huggingface.co/datasets/timdettmers/openassistant-guanaco\n",
    "\n",
    "설정값: https://github.com/huggingface/autotrain-advanced/blob/f1367b590dfc53d240e9684779991da540590386/src/autotrain/cli/run_llm.py#L21"
   ]
  },
  {
   "cell_type": "code",
   "execution_count": 10,
   "metadata": {},
   "outputs": [],
   "source": [
    "!autotrain llm --train \\\n",
    "    --project-name \"ko-llama2-finetune\" \\\n",
    "    --model \"TinyPixel/Llama-2-7B-bf16-sharded\" \\\n",
    "    --data-path \"royboy0416/ko-alpaca\" \\\n",
    "    --text-column \"text\" \\\n",
    "    --train-batch-size 16 \\\n",
    "    --trainer sft"
   ]
  }
 ],
 "metadata": {
  "kernelspec": {
   "display_name": "autotrain",
   "language": "python",
   "name": "python3"
  },
  "language_info": {
   "codemirror_mode": {
    "name": "ipython",
    "version": 3
   },
   "file_extension": ".py",
   "mimetype": "text/x-python",
   "name": "python",
   "nbconvert_exporter": "python",
   "pygments_lexer": "ipython3",
   "version": "3.10.13"
  }
 },
 "nbformat": 4,
 "nbformat_minor": 2
}
